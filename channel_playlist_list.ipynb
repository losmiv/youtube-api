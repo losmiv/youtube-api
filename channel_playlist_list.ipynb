{
 "cells": [
  {
   "cell_type": "code",
   "execution_count": 1,
   "id": "4f51775f-03fa-48b3-9782-b5dcbf48f283",
   "metadata": {
    "tags": []
   },
   "outputs": [],
   "source": [
    "import os\n",
    "from dotenv import load_dotenv"
   ]
  },
  {
   "cell_type": "code",
   "execution_count": 11,
   "id": "cbafcd0d-8373-4895-a927-6447ba95b2a6",
   "metadata": {
    "tags": []
   },
   "outputs": [],
   "source": [
    "from googleapiclient.discovery import build\n",
    "import pandas as pd\n",
    "from IPython.display import JSON"
   ]
  },
  {
   "cell_type": "code",
   "execution_count": 8,
   "id": "e4d34b29-efa0-456c-9356-a6086fe7c63b",
   "metadata": {
    "tags": []
   },
   "outputs": [],
   "source": [
    "load_dotenv(\".env\")\n",
    "api_key = os.environ[\"API_KEY\"]"
   ]
  },
  {
   "cell_type": "code",
   "execution_count": 35,
   "id": "676d0674-dc84-4bed-90f6-f0288ffab466",
   "metadata": {
    "tags": []
   },
   "outputs": [],
   "source": [
    "channel_ids = ['UCZJHUwR_ctkdoaHb0FeAhew',\n",
    "             ]"
   ]
  },
  {
   "cell_type": "code",
   "execution_count": 34,
   "id": "c15a2820-7078-4a41-bedb-62ee9bd06371",
   "metadata": {
    "tags": []
   },
   "outputs": [],
   "source": [
    "api_service_name = \"youtube\"\n",
    "api_version = \"v3\"\n",
    "\n",
    "# Get credentials and create an API client\n",
    "youtube = build(\n",
    "    api_service_name, api_version, developerKey=api_key)"
   ]
  },
  {
   "cell_type": "code",
   "execution_count": 25,
   "id": "5283daa3-2563-48c6-b151-dd194dbeb223",
   "metadata": {
    "tags": []
   },
   "outputs": [],
   "source": [
    "def get_channel_stats(youtube, channel_ids):\n",
    "\n",
    "    all_data = []\n",
    "    \n",
    "    request = youtube.channels().list(\n",
    "        part=\"snippet,contentDetails,statistics\",\n",
    "        id = ','.join(channel_ids)\n",
    "    )\n",
    "    response = request.execute()\n",
    "    JSON(response)\n",
    "    \n",
    "    # loop through items\n",
    "    for item in response['items']:\n",
    "        data = {'channelName': item['snippet']['title'],\n",
    "                'subscribers': item['statistics']['subscriberCount'],\n",
    "                'views': item['statistics']['viewCount'],\n",
    "                'totalVideos': item['statistics']['videoCount'],\n",
    "                'playlistID': item['contentDetails']['relatedPlaylists']['uploads']\n",
    "               }\n",
    "        all_data.append(data)\n",
    "    \n",
    "    return(pd.DataFrame(all_data))"
   ]
  },
  {
   "cell_type": "code",
   "execution_count": 26,
   "id": "176f9023-ce0c-4310-98a8-59a53baa04e2",
   "metadata": {
    "tags": []
   },
   "outputs": [],
   "source": [
    "channel_stats = get_channel_stats(youtube, channel_ids)"
   ]
  },
  {
   "cell_type": "code",
   "execution_count": 32,
   "id": "ea92a358-ded7-4d28-98a7-86b825341098",
   "metadata": {
    "tags": []
   },
   "outputs": [
    {
     "data": {
      "text/html": [
       "<div>\n",
       "<style scoped>\n",
       "    .dataframe tbody tr th:only-of-type {\n",
       "        vertical-align: middle;\n",
       "    }\n",
       "\n",
       "    .dataframe tbody tr th {\n",
       "        vertical-align: top;\n",
       "    }\n",
       "\n",
       "    .dataframe thead th {\n",
       "        text-align: right;\n",
       "    }\n",
       "</style>\n",
       "<table border=\"1\" class=\"dataframe\">\n",
       "  <thead>\n",
       "    <tr style=\"text-align: right;\">\n",
       "      <th></th>\n",
       "      <th>channelName</th>\n",
       "      <th>subscribers</th>\n",
       "      <th>views</th>\n",
       "      <th>totalVideos</th>\n",
       "      <th>playlistID</th>\n",
       "    </tr>\n",
       "  </thead>\n",
       "  <tbody>\n",
       "    <tr>\n",
       "      <th>0</th>\n",
       "      <td>mistermister668</td>\n",
       "      <td>41900</td>\n",
       "      <td>16540179</td>\n",
       "      <td>1392</td>\n",
       "      <td>UUZJHUwR_ctkdoaHb0FeAhew</td>\n",
       "    </tr>\n",
       "  </tbody>\n",
       "</table>\n",
       "</div>"
      ],
      "text/plain": [
       "       channelName subscribers     views totalVideos                playlistID\n",
       "0  mistermister668       41900  16540179        1392  UUZJHUwR_ctkdoaHb0FeAhew"
      ]
     },
     "execution_count": 32,
     "metadata": {},
     "output_type": "execute_result"
    }
   ],
   "source": [
    "channel_stats"
   ]
  },
  {
   "cell_type": "code",
   "execution_count": 52,
   "id": "e15a7d63-9e2b-42aa-a694-372e8910e07b",
   "metadata": {
    "tags": []
   },
   "outputs": [],
   "source": [
    "playlist_id = \"OLAK5uy_lHH8ZP8T30cWlLUz7_EucPITqWT8hCRxc\"\n",
    "\n",
    "def get_video_ids(youtube, playlist_id):\n",
    "    \n",
    "    video_ids = []\n",
    "    \n",
    "    request = youtube.playlistItems().list(\n",
    "        part=\"snippet, contentDetails\",\n",
    "        playlistId=playlist_id,\n",
    "        maxResults=25\n",
    "    )\n",
    "    response = request.execute()\n",
    "\n",
    "    for item in response['items']:\n",
    "        video_ids.append(item['contentDetails']['videoId'])\n",
    "        \n",
    "    next_page_token = response.get('nextPageToken')\n",
    "    while next_page_token is not None:\n",
    "        request = youtube.playlistItems().list(\n",
    "        part=\"snippet, contentDetails\",\n",
    "        playlistId=playlist_id,\n",
    "        maxResults=25\n",
    "        )\n",
    "        response = request.execute()\n",
    "\n",
    "        for item in response['items']:\n",
    "            video_ids.append(item['contentDetails']['videoId'])\n",
    "        \n",
    "        next_page_token = response.get('nextPageToken')\n",
    "        \n",
    "    return video_ids"
   ]
  },
  {
   "cell_type": "code",
   "execution_count": 53,
   "id": "7bf1b933-b469-4c89-b6ec-47ef2a284790",
   "metadata": {
    "tags": []
   },
   "outputs": [],
   "source": [
    "video_ids = get_video_ids(youtube, playlist_id)"
   ]
  },
  {
   "cell_type": "code",
   "execution_count": 55,
   "id": "4870423c-2977-423a-b693-8edd53d14a18",
   "metadata": {
    "tags": []
   },
   "outputs": [
    {
     "data": {
      "text/plain": [
       "11"
      ]
     },
     "execution_count": 55,
     "metadata": {},
     "output_type": "execute_result"
    }
   ],
   "source": [
    "len(video_ids)"
   ]
  },
  {
   "cell_type": "code",
   "execution_count": 62,
   "id": "65d8fbdc-3fee-4d45-b2dc-fc2b1e6a2788",
   "metadata": {
    "tags": []
   },
   "outputs": [],
   "source": [
    "def get_video_details(youtube, video_ids):\n",
    "\n",
    "    all_video_info = []\n",
    "\n",
    "    for i in range(0, len(video_ids), 50):\n",
    "        request = youtube.videos().list(\n",
    "            part=\"snippet, contentDetails, statistics\",\n",
    "            id=','.join(video_ids[i:i+25])\n",
    "        )\n",
    "\n",
    "        response = request.execute()\n",
    "\n",
    "        for video in response['items']:\n",
    "            stats_to_keep = {'snippet': ['channelTitle', 'title', 'description', 'tags', 'publishedAt'],\n",
    "                             'statistics': ['viewCount', 'likeCount', 'favoriteCount', 'commentCount'],\n",
    "                             'contentDetails': ['duration', 'caption']\n",
    "                            }\n",
    "            video_info = {}\n",
    "            video_info['video_id'] = video['id']\n",
    "\n",
    "            for k in stats_to_keep.keys():\n",
    "                for v in stats_to_keep[k]:\n",
    "                    try:\n",
    "                        video_info[v] = video[k][v]\n",
    "                    except:\n",
    "                        video_info[v] = None\n",
    "\n",
    "            all_video_info.append(video_info)\n",
    "            \n",
    "        return pd.DataFrame(all_video_info)"
   ]
  },
  {
   "cell_type": "code",
   "execution_count": 63,
   "id": "7184f175-1fdc-45d9-8a46-658ee2dcd082",
   "metadata": {
    "tags": []
   },
   "outputs": [],
   "source": [
    "video_df = get_video_details(youtube, video_ids)"
   ]
  },
  {
   "cell_type": "code",
   "execution_count": 64,
   "id": "e7ce54d2-f07e-4dc7-9ff2-174e1bfbc542",
   "metadata": {
    "tags": []
   },
   "outputs": [
    {
     "data": {
      "text/html": [
       "<div>\n",
       "<style scoped>\n",
       "    .dataframe tbody tr th:only-of-type {\n",
       "        vertical-align: middle;\n",
       "    }\n",
       "\n",
       "    .dataframe tbody tr th {\n",
       "        vertical-align: top;\n",
       "    }\n",
       "\n",
       "    .dataframe thead th {\n",
       "        text-align: right;\n",
       "    }\n",
       "</style>\n",
       "<table border=\"1\" class=\"dataframe\">\n",
       "  <thead>\n",
       "    <tr style=\"text-align: right;\">\n",
       "      <th></th>\n",
       "      <th>video_id</th>\n",
       "      <th>channelTitle</th>\n",
       "      <th>title</th>\n",
       "      <th>description</th>\n",
       "      <th>tags</th>\n",
       "      <th>publishedAt</th>\n",
       "      <th>viewCount</th>\n",
       "      <th>likeCount</th>\n",
       "      <th>favoriteCount</th>\n",
       "      <th>commentCount</th>\n",
       "      <th>duration</th>\n",
       "      <th>caption</th>\n",
       "    </tr>\n",
       "  </thead>\n",
       "  <tbody>\n",
       "    <tr>\n",
       "      <th>0</th>\n",
       "      <td>INi6kaG9CT4</td>\n",
       "      <td>John Scofield - Topic</td>\n",
       "      <td>Camelus</td>\n",
       "      <td>Provided to YouTube by Universal Music Group\\n...</td>\n",
       "      <td>[John Scofield, ジョン・スコフィールド, ジョンスコフィールド, Überj...</td>\n",
       "      <td>2019-01-09T10:23:39Z</td>\n",
       "      <td>39755</td>\n",
       "      <td>438</td>\n",
       "      <td>0</td>\n",
       "      <td>2</td>\n",
       "      <td>PT5M18S</td>\n",
       "      <td>false</td>\n",
       "    </tr>\n",
       "    <tr>\n",
       "      <th>1</th>\n",
       "      <td>T5GojQrgJxY</td>\n",
       "      <td>John Scofield - Topic</td>\n",
       "      <td>Boogie Stupid</td>\n",
       "      <td>Provided to YouTube by Universal Music Group\\n...</td>\n",
       "      <td>[John Scofield, ジョン・スコフィールド, ジョンスコフィールド, Überj...</td>\n",
       "      <td>2019-01-09T10:23:39Z</td>\n",
       "      <td>49925</td>\n",
       "      <td>645</td>\n",
       "      <td>0</td>\n",
       "      <td>1</td>\n",
       "      <td>PT5M6S</td>\n",
       "      <td>false</td>\n",
       "    </tr>\n",
       "    <tr>\n",
       "      <th>2</th>\n",
       "      <td>l7ISW29UZds</td>\n",
       "      <td>John Scofield - Topic</td>\n",
       "      <td>Endless Summer</td>\n",
       "      <td>Provided to YouTube by Universal Music Group\\n...</td>\n",
       "      <td>[John Scofield, ジョン・スコフィールド, ジョンスコフィールド, Überj...</td>\n",
       "      <td>2019-01-09T10:23:39Z</td>\n",
       "      <td>68167</td>\n",
       "      <td>1000</td>\n",
       "      <td>0</td>\n",
       "      <td>1</td>\n",
       "      <td>PT6M9S</td>\n",
       "      <td>false</td>\n",
       "    </tr>\n",
       "    <tr>\n",
       "      <th>3</th>\n",
       "      <td>jOljJ_jH4dE</td>\n",
       "      <td>John Scofield - Topic</td>\n",
       "      <td>Dub Dub</td>\n",
       "      <td>Provided to YouTube by Universal Music Group\\n...</td>\n",
       "      <td>[John Scofield, ジョン・スコフィールド, ジョンスコフィールド, Überj...</td>\n",
       "      <td>2019-01-09T10:23:39Z</td>\n",
       "      <td>24190</td>\n",
       "      <td>270</td>\n",
       "      <td>0</td>\n",
       "      <td>0</td>\n",
       "      <td>PT6M7S</td>\n",
       "      <td>false</td>\n",
       "    </tr>\n",
       "    <tr>\n",
       "      <th>4</th>\n",
       "      <td>wMFVQdkrero</td>\n",
       "      <td>John Scofield - Topic</td>\n",
       "      <td>Cracked Ice</td>\n",
       "      <td>Provided to YouTube by Universal Music Group\\n...</td>\n",
       "      <td>[John Scofield, ジョン・スコフィールド, ジョンスコフィールド, Überj...</td>\n",
       "      <td>2019-01-09T10:24:09Z</td>\n",
       "      <td>27534</td>\n",
       "      <td>488</td>\n",
       "      <td>0</td>\n",
       "      <td>0</td>\n",
       "      <td>PT5M54S</td>\n",
       "      <td>false</td>\n",
       "    </tr>\n",
       "    <tr>\n",
       "      <th>5</th>\n",
       "      <td>ZeknY7BvAtQ</td>\n",
       "      <td>John Scofield - Topic</td>\n",
       "      <td>Al Green Song</td>\n",
       "      <td>Provided to YouTube by Universal Music Group\\n...</td>\n",
       "      <td>[John Scofield, ジョン・スコフィールド, ジョンスコフィールド, Überj...</td>\n",
       "      <td>2019-01-09T10:23:55Z</td>\n",
       "      <td>19144</td>\n",
       "      <td>205</td>\n",
       "      <td>0</td>\n",
       "      <td>0</td>\n",
       "      <td>PT5M51S</td>\n",
       "      <td>false</td>\n",
       "    </tr>\n",
       "    <tr>\n",
       "      <th>6</th>\n",
       "      <td>DgMMQnmIY7s</td>\n",
       "      <td>John Scofield - Topic</td>\n",
       "      <td>Snake Dance</td>\n",
       "      <td>Provided to YouTube by Universal Music Group\\n...</td>\n",
       "      <td>[John Scofield, ジョン・スコフィールド, ジョンスコフィールド, Überj...</td>\n",
       "      <td>2019-01-09T10:23:39Z</td>\n",
       "      <td>19336</td>\n",
       "      <td>228</td>\n",
       "      <td>0</td>\n",
       "      <td>1</td>\n",
       "      <td>PT7M14S</td>\n",
       "      <td>false</td>\n",
       "    </tr>\n",
       "    <tr>\n",
       "      <th>7</th>\n",
       "      <td>kP08nvlZ11Y</td>\n",
       "      <td>John Scofield - Topic</td>\n",
       "      <td>Scotown</td>\n",
       "      <td>Provided to YouTube by Universal Music Group\\n...</td>\n",
       "      <td>[John Scofield, ジョン・スコフィールド, ジョンスコフィールド, Überj...</td>\n",
       "      <td>2019-01-09T10:23:39Z</td>\n",
       "      <td>21530</td>\n",
       "      <td>283</td>\n",
       "      <td>0</td>\n",
       "      <td>0</td>\n",
       "      <td>PT4M36S</td>\n",
       "      <td>false</td>\n",
       "    </tr>\n",
       "    <tr>\n",
       "      <th>8</th>\n",
       "      <td>vDKbDu8qzOQ</td>\n",
       "      <td>John Scofield - Topic</td>\n",
       "      <td>Torero</td>\n",
       "      <td>Provided to YouTube by Universal Music Group\\n...</td>\n",
       "      <td>[John Scofield, ジョン・スコフィールド, ジョンスコフィールド, Überj...</td>\n",
       "      <td>2019-01-09T10:23:39Z</td>\n",
       "      <td>10775</td>\n",
       "      <td>151</td>\n",
       "      <td>0</td>\n",
       "      <td>0</td>\n",
       "      <td>PT5M52S</td>\n",
       "      <td>false</td>\n",
       "    </tr>\n",
       "    <tr>\n",
       "      <th>9</th>\n",
       "      <td>6M8MlakToZE</td>\n",
       "      <td>John Scofield - Topic</td>\n",
       "      <td>Curtis Knew</td>\n",
       "      <td>Provided to YouTube by Universal Music Group\\n...</td>\n",
       "      <td>[John Scofield, ジョン・スコフィールド, ジョンスコフィールド, Überj...</td>\n",
       "      <td>2019-01-09T10:23:40Z</td>\n",
       "      <td>13495</td>\n",
       "      <td>169</td>\n",
       "      <td>0</td>\n",
       "      <td>1</td>\n",
       "      <td>PT4M45S</td>\n",
       "      <td>false</td>\n",
       "    </tr>\n",
       "    <tr>\n",
       "      <th>10</th>\n",
       "      <td>y7MkUN3umqg</td>\n",
       "      <td>John Scofield - Topic</td>\n",
       "      <td>Just Don't Want To Be Lonely</td>\n",
       "      <td>Provided to YouTube by Universal Music Group\\n...</td>\n",
       "      <td>[John Scofield, ジョン・スコフィールド, ジョンスコフィールド, Überj...</td>\n",
       "      <td>2019-01-09T10:23:39Z</td>\n",
       "      <td>34587</td>\n",
       "      <td>562</td>\n",
       "      <td>0</td>\n",
       "      <td>4</td>\n",
       "      <td>PT5M8S</td>\n",
       "      <td>false</td>\n",
       "    </tr>\n",
       "  </tbody>\n",
       "</table>\n",
       "</div>"
      ],
      "text/plain": [
       "       video_id           channelTitle                         title   \n",
       "0   INi6kaG9CT4  John Scofield - Topic                       Camelus  \\\n",
       "1   T5GojQrgJxY  John Scofield - Topic                 Boogie Stupid   \n",
       "2   l7ISW29UZds  John Scofield - Topic                Endless Summer   \n",
       "3   jOljJ_jH4dE  John Scofield - Topic                       Dub Dub   \n",
       "4   wMFVQdkrero  John Scofield - Topic                   Cracked Ice   \n",
       "5   ZeknY7BvAtQ  John Scofield - Topic                 Al Green Song   \n",
       "6   DgMMQnmIY7s  John Scofield - Topic                   Snake Dance   \n",
       "7   kP08nvlZ11Y  John Scofield - Topic                       Scotown   \n",
       "8   vDKbDu8qzOQ  John Scofield - Topic                        Torero   \n",
       "9   6M8MlakToZE  John Scofield - Topic                   Curtis Knew   \n",
       "10  y7MkUN3umqg  John Scofield - Topic  Just Don't Want To Be Lonely   \n",
       "\n",
       "                                          description   \n",
       "0   Provided to YouTube by Universal Music Group\\n...  \\\n",
       "1   Provided to YouTube by Universal Music Group\\n...   \n",
       "2   Provided to YouTube by Universal Music Group\\n...   \n",
       "3   Provided to YouTube by Universal Music Group\\n...   \n",
       "4   Provided to YouTube by Universal Music Group\\n...   \n",
       "5   Provided to YouTube by Universal Music Group\\n...   \n",
       "6   Provided to YouTube by Universal Music Group\\n...   \n",
       "7   Provided to YouTube by Universal Music Group\\n...   \n",
       "8   Provided to YouTube by Universal Music Group\\n...   \n",
       "9   Provided to YouTube by Universal Music Group\\n...   \n",
       "10  Provided to YouTube by Universal Music Group\\n...   \n",
       "\n",
       "                                                 tags           publishedAt   \n",
       "0   [John Scofield, ジョン・スコフィールド, ジョンスコフィールド, Überj...  2019-01-09T10:23:39Z  \\\n",
       "1   [John Scofield, ジョン・スコフィールド, ジョンスコフィールド, Überj...  2019-01-09T10:23:39Z   \n",
       "2   [John Scofield, ジョン・スコフィールド, ジョンスコフィールド, Überj...  2019-01-09T10:23:39Z   \n",
       "3   [John Scofield, ジョン・スコフィールド, ジョンスコフィールド, Überj...  2019-01-09T10:23:39Z   \n",
       "4   [John Scofield, ジョン・スコフィールド, ジョンスコフィールド, Überj...  2019-01-09T10:24:09Z   \n",
       "5   [John Scofield, ジョン・スコフィールド, ジョンスコフィールド, Überj...  2019-01-09T10:23:55Z   \n",
       "6   [John Scofield, ジョン・スコフィールド, ジョンスコフィールド, Überj...  2019-01-09T10:23:39Z   \n",
       "7   [John Scofield, ジョン・スコフィールド, ジョンスコフィールド, Überj...  2019-01-09T10:23:39Z   \n",
       "8   [John Scofield, ジョン・スコフィールド, ジョンスコフィールド, Überj...  2019-01-09T10:23:39Z   \n",
       "9   [John Scofield, ジョン・スコフィールド, ジョンスコフィールド, Überj...  2019-01-09T10:23:40Z   \n",
       "10  [John Scofield, ジョン・スコフィールド, ジョンスコフィールド, Überj...  2019-01-09T10:23:39Z   \n",
       "\n",
       "   viewCount likeCount favoriteCount commentCount duration caption  \n",
       "0      39755       438             0            2  PT5M18S   false  \n",
       "1      49925       645             0            1   PT5M6S   false  \n",
       "2      68167      1000             0            1   PT6M9S   false  \n",
       "3      24190       270             0            0   PT6M7S   false  \n",
       "4      27534       488             0            0  PT5M54S   false  \n",
       "5      19144       205             0            0  PT5M51S   false  \n",
       "6      19336       228             0            1  PT7M14S   false  \n",
       "7      21530       283             0            0  PT4M36S   false  \n",
       "8      10775       151             0            0  PT5M52S   false  \n",
       "9      13495       169             0            1  PT4M45S   false  \n",
       "10     34587       562             0            4   PT5M8S   false  "
      ]
     },
     "execution_count": 64,
     "metadata": {},
     "output_type": "execute_result"
    }
   ],
   "source": [
    "video_df"
   ]
  },
  {
   "cell_type": "code",
   "execution_count": null,
   "id": "e3c56194-7e73-4e43-b8a9-c36bd6dbb4af",
   "metadata": {},
   "outputs": [],
   "source": []
  }
 ],
 "metadata": {
  "kernelspec": {
   "display_name": "Python 3 (ipykernel)",
   "language": "python",
   "name": "python3"
  },
  "language_info": {
   "codemirror_mode": {
    "name": "ipython",
    "version": 3
   },
   "file_extension": ".py",
   "mimetype": "text/x-python",
   "name": "python",
   "nbconvert_exporter": "python",
   "pygments_lexer": "ipython3",
   "version": "3.10.2"
  }
 },
 "nbformat": 4,
 "nbformat_minor": 5
}
